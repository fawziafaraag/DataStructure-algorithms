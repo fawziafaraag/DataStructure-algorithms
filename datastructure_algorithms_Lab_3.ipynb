{
  "nbformat": 4,
  "nbformat_minor": 0,
  "metadata": {
    "colab": {
      "provenance": [],
      "include_colab_link": true
    },
    "kernelspec": {
      "name": "python3",
      "display_name": "Python 3"
    },
    "language_info": {
      "name": "python"
    }
  },
  "cells": [
    {
      "cell_type": "markdown",
      "metadata": {
        "id": "view-in-github",
        "colab_type": "text"
      },
      "source": [
        "<a href=\"https://colab.research.google.com/github/fawziafaraag/DataStructure-algorithms/blob/main/datastructure_algorithms_Lab_3.ipynb\" target=\"_parent\"><img src=\"https://colab.research.google.com/assets/colab-badge.svg\" alt=\"Open In Colab\"/></a>"
      ]
    },
    {
      "cell_type": "markdown",
      "source": [
        "# **Fractional knapsack**"
      ],
      "metadata": {
        "id": "4l_NYvsvmhxH"
      }
    },
    {
      "cell_type": "code",
      "execution_count": null,
      "metadata": {
        "colab": {
          "base_uri": "https://localhost:8080/"
        },
        "id": "Jd0swl6wmVG1",
        "outputId": "0711a1a9-5be2-4c32-a485-eccf2eaaca58"
      },
      "outputs": [
        {
          "output_type": "stream",
          "name": "stdout",
          "text": [
            "max value: 240.0\n"
          ]
        }
      ],
      "source": [
        "class Item:\n",
        " def  __init__(self,value,weight):\n",
        "   self.weight=weight\n",
        "   self.value=value\n",
        "   \n",
        "   \n",
        "def frknapsack(capacity,arr):\n",
        "  arr.sort(key=lambda x:(x.value/x.weight),reverse=True)\n",
        "  final_value=0.0\n",
        "  for i in arr:\n",
        "    if i.weight<=capacity:\n",
        "      capacity-=i.weight\n",
        "      final_value+=i.value\n",
        "    else:\n",
        "        final_value+=i.value*capacity/i.weight #fraction\n",
        "        \n",
        "  return final_value\n",
        "#implementation\n",
        "if __name__==\"__main__\":\n",
        "  capacity=50\n",
        "  arr=[Item(60,10),Item(100,20),Item(120,30)]\n",
        "  print(\"max value:\",frknapsack(capacity,arr))\n"
      ]
    },
    {
      "cell_type": "markdown",
      "source": [
        "# **Job Scheduling with deadline**"
      ],
      "metadata": {
        "id": "AFntJbmam_Ya"
      }
    },
    {
      "cell_type": "code",
      "source": [],
      "metadata": {
        "id": "Fl-hKmMvm_2f"
      },
      "execution_count": null,
      "outputs": []
    },
    {
      "cell_type": "code",
      "source": [
        "# A class to store job details. Each job has an identifier,\n",
        "# a deadline, and profit associated with it.\n",
        "class Job:\n",
        "    def __init__(self, taskId, deadline, profit):\n",
        "        self.taskId = taskId\n",
        "        self.deadline = deadline\n",
        "        self.profit = profit\n",
        " \n",
        " \n",
        "# Function to schedule jobs to maximize profit\n",
        "def scheduleJobs(jobs, T):\n",
        " \n",
        "    # stores the maximum profit that can be earned by scheduling jobs\n",
        "    profit = 0\n",
        " \n",
        "    # list to store used and unused slots info\n",
        "    slot = [-1] * T\n",
        " \n",
        "    # arrange the jobs in decreasing order of their profits\n",
        "    jobs.sort(key=lambda x: x.profit, reverse=True)\n",
        " \n",
        "    # consider each job in decreasing order of their profits\n",
        "    for job in jobs:\n",
        "        # search for the next free slot and map the task to that slot\n",
        "        for j in reversed(range(job.deadline)):\n",
        "            if j < T and slot[j] == -1:\n",
        "                slot[j] = job.taskId\n",
        "                profit += job.profit\n",
        "                break\n",
        " \n",
        "    # print the scheduled jobs\n",
        "    print('The scheduled jobs are', list(filter(lambda x: x != -1, slot)))\n",
        " \n",
        "    # print total profit that can be earned\n",
        "    print('The total profit earned is', profit)\n",
        " \n",
        " \n",
        "if __name__ == '__main__':\n",
        " \n",
        "    # List of given jobs. Each job has an identifier, a deadline, and\n",
        "    # profit associated with it\n",
        "    jobs = [\n",
        "        Job(\"j1\", 2, 60), Job(\"j2\", 1, 100), Job(\"j3\", 3, 20), Job(\"j4\", 2, 40), Job(\"j5\", 1, 20)\n",
        "    ]\n",
        " \n",
        "    # stores the maximum deadline that can be associated with a job\n",
        "    T = 3\n",
        " \n",
        "    # schedule jobs and calculate the maximum profit\n",
        "    scheduleJobs(jobs, T)"
      ],
      "metadata": {
        "colab": {
          "base_uri": "https://localhost:8080/"
        },
        "id": "ST8oLwk2NPI3",
        "outputId": "c9fc5056-f273-4fd3-b452-6b0baa21611f"
      },
      "execution_count": null,
      "outputs": [
        {
          "output_type": "stream",
          "name": "stdout",
          "text": [
            "The scheduled jobs are ['j2', 'j1', 'j3']\n",
            "The total profit earned is 180\n"
          ]
        }
      ]
    },
    {
      "cell_type": "markdown",
      "source": [
        "# ***Matrix Multiplication***"
      ],
      "metadata": {
        "id": "NxqTkey8n2kR"
      }
    },
    {
      "cell_type": "code",
      "source": [
        "def mcm(d):\n",
        "  n=len(d)-1\n",
        "  m={(i,j):float('inf')for i in range(1,n+1)for j in range(i,n+1)}\n",
        "  for i in range(1,n+1):\n",
        "    m[(i,i)]=0\n",
        "  for i in range(1,n+1):\n",
        "    \n",
        "    for j in range(i,n+1):\n",
        "      if i==j:\n",
        "        m[(i,j)]=0\n",
        "      else:\n",
        "        m[(i,j)]=min(m[(i,k)]+m[(k+1,j)]+d[i-1]*d[k]*d[j] for k in range(i,j))\n",
        "    return m[(1,n)]\n",
        "d=[5,20,10,50]\n",
        "print(\"Multiplication result in m(1,3):\",mcm(d))"
      ],
      "metadata": {
        "colab": {
          "base_uri": "https://localhost:8080/"
        },
        "id": "GIcoRcvsn23Y",
        "outputId": "92c47b82-cb40-41e8-f95b-167e662cc247"
      },
      "execution_count": null,
      "outputs": [
        {
          "output_type": "stream",
          "name": "stdout",
          "text": [
            "Multiplication result in m(1,3): 3500\n"
          ]
        }
      ]
    },
    {
      "cell_type": "markdown",
      "source": [
        "# ***Knapsack 1/0***"
      ],
      "metadata": {
        "id": "HWuM31tMoGgQ"
      }
    },
    {
      "cell_type": "code",
      "source": [],
      "metadata": {
        "id": "so250geaoGvA"
      },
      "execution_count": null,
      "outputs": []
    },
    {
      "cell_type": "code",
      "source": [
        "# A naive recursive implementation of 0-1 Knapsack Problem\n",
        "\n",
        "# Returns the maximum value that can be put in a knapsack of\n",
        "# capacity W\n",
        "def knapSack(W, wt, val, n):\n",
        "\n",
        "\t# Base Case\n",
        "\tif n == 0 or W == 0 :\n",
        "\t\treturn 0\n",
        "\n",
        "\t# If weight of the nth item is more than Knapsack of capacity\n",
        "\t# W, then this item cannot be included in the optimal solution\n",
        "\tif (wt[n-1] > W):\n",
        "\t\treturn knapSack(W, wt, val, n-1)\n",
        "\n",
        "\t# return the maximum of two cases:\n",
        "\t# (1) nth item included\n",
        "\t# (2) not included\n",
        "\telse:\n",
        "\t\treturn max(val[n-1] + knapSack(W-wt[n-1], wt, val, n-1),\n",
        "\t\t\t\tknapSack(W, wt, val, n-1))\n",
        "\n",
        "# end of function knapSack\n",
        "\n",
        "# To test above function\n",
        "val = [60,100,120]\n",
        "wt = [10,20,30]\n",
        "W = 50\n",
        "n = len(val)\n",
        "print (\"Max value:\",knapSack(W, wt, val, n))\n"
      ],
      "metadata": {
        "colab": {
          "base_uri": "https://localhost:8080/"
        },
        "id": "9JPkcdcIg1lq",
        "outputId": "501575a8-b7cd-497f-a680-f8814dd50913"
      },
      "execution_count": null,
      "outputs": [
        {
          "output_type": "stream",
          "name": "stdout",
          "text": [
            "Max value: 220\n"
          ]
        }
      ]
    },
    {
      "cell_type": "markdown",
      "source": [
        "# ***Fibonacci Without Dynamic Programming(Recursive)***"
      ],
      "metadata": {
        "id": "ix9pp28loZbB"
      }
    },
    {
      "cell_type": "code",
      "source": [],
      "metadata": {
        "id": "FgmkeybdoZp7"
      },
      "execution_count": null,
      "outputs": []
    },
    {
      "cell_type": "code",
      "source": [
        "def febonacci(n):\n",
        "  if n<=1:\n",
        "    return n\n",
        "  else:\n",
        "    return febonacci(n-1)+febonacci(n-2)\n",
        "#implementation\n",
        "print(\"Febonnaci number of 10:\",febonacci(10))\n",
        "#n-->  0,1,2,3,4,5,6,7, 8, 9 ,10\n",
        "#f(n)->0,1,1,2,3,5,8,13,21,34,55\n",
        "print(\"Time Complixety:o(2^n)\")"
      ],
      "metadata": {
        "colab": {
          "base_uri": "https://localhost:8080/"
        },
        "id": "h94FSkDNl1F-",
        "outputId": "77aa2451-de21-4084-d6e2-d6df465acc03"
      },
      "execution_count": null,
      "outputs": [
        {
          "output_type": "stream",
          "name": "stdout",
          "text": [
            "Febonnaci number of 10: 55\n",
            "Time Complixety:o(2^n)\n"
          ]
        }
      ]
    },
    {
      "cell_type": "markdown",
      "source": [
        "# ***Fibonacci With Dynamic Programming(memoized)***"
      ],
      "metadata": {
        "id": "c4_Qwn5pon0H"
      }
    },
    {
      "cell_type": "code",
      "source": [],
      "metadata": {
        "id": "52ywmSpvo2EO"
      },
      "execution_count": null,
      "outputs": []
    },
    {
      "cell_type": "code",
      "source": [
        "f_n={0:0,1:1}\n",
        "def febonacci(n):\n",
        "  if n in f_n.keys():\n",
        "    return f_n[n]\n",
        "  else:\n",
        "    f_n[n]=febonacci(n-1)+febonacci(n-2)\n",
        "    return f_n[n]\n",
        "#implementation\n",
        "print(\"Febonnaci number of 10:\",febonacci(10))\n",
        "#n-->  0,1,2,3,4,5,6,7, 8, 9 ,10\n",
        "#f(n)->0,1,1,2,3,5,8,13,21,34,55\n",
        "print(\"Time Complixety:o(n)\")"
      ],
      "metadata": {
        "colab": {
          "base_uri": "https://localhost:8080/"
        },
        "id": "PJFQZGYsoRU3",
        "outputId": "e983b87f-a22c-458b-a286-bc94b564f3f9"
      },
      "execution_count": null,
      "outputs": [
        {
          "output_type": "stream",
          "name": "stdout",
          "text": [
            "Febonnaci number of 10: 55\n",
            "Time Complixety:o(n)\n"
          ]
        }
      ]
    },
    {
      "cell_type": "markdown",
      "source": [
        "# ***Fibonacci With Dynamic Programming(tabular(bottom up approach))***"
      ],
      "metadata": {
        "id": "5nB_g_vspIyH"
      }
    },
    {
      "cell_type": "code",
      "source": [],
      "metadata": {
        "id": "mh6YTS5lpJEW"
      },
      "execution_count": null,
      "outputs": []
    },
    {
      "cell_type": "code",
      "source": [
        "def febonacci(n):\n",
        "  if n<=1:\n",
        "   return n\n",
        "  else:\n",
        "   f_k1=1\n",
        "   f_k2=0\n",
        "   i=1\n",
        "   while i<n:\n",
        "     f_k=f_k1+f_k2\n",
        "     i+=1\n",
        "     f_k2=f_k1\n",
        "     f_k1=f_k\n",
        "   return f_k\n",
        "     \n",
        "#implementation\n",
        "print(\"Febonnaci number of 10:\",febonacci(10))\n",
        "#n-->  0,1,2,3,4,5,6,7, 8, 9 ,10\n",
        "#f(n)->0,1,1,2,3,5,8,13,21,34,55\n",
        "print(\"Time Complixety:o(n)\")\n",
        "\n"
      ],
      "metadata": {
        "colab": {
          "base_uri": "https://localhost:8080/"
        },
        "id": "FlHhnQjttspv",
        "outputId": "b2482ba2-effa-4c33-ade5-a0516886f5b0"
      },
      "execution_count": null,
      "outputs": [
        {
          "output_type": "stream",
          "name": "stdout",
          "text": [
            "Febonnaci number of 10: 55\n",
            "Time Complixety:o(n)\n"
          ]
        }
      ]
    }
  ]
}